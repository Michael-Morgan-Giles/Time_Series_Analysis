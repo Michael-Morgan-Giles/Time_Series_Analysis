{
 "cells": [
  {
   "cell_type": "markdown",
   "id": "56728b64-dbee-406c-b745-d2d4f1107436",
   "metadata": {},
   "source": [
    "# Tut 12"
   ]
  },
  {
   "cell_type": "code",
   "execution_count": 2,
   "id": "5558d89e-fc33-458d-89f1-f0218255cebd",
   "metadata": {},
   "outputs": [],
   "source": [
    "%reset -f"
   ]
  },
  {
   "cell_type": "code",
   "execution_count": 4,
   "id": "b91e50f4-6f82-41e7-b41e-0ff3061fb2ef",
   "metadata": {},
   "outputs": [],
   "source": [
    "import pandas            as pd\n",
    "import matplotlib.pyplot as plt\n",
    "import matplotlib.dates  as mdates\n",
    "import seaborn           as sns\n",
    "import numpy             as np\n",
    "import statsmodels.api   as sm\n",
    "\n",
    "from datetime                    import datetime\n",
    "from statsmodels.tsa.stattools   import adfuller\n",
    "from statsmodels.tsa.arima.model import ARIMA\n",
    "from pmdarima.arima              import AutoARIMA\n",
    "from arch                        import arch_model"
   ]
  },
  {
   "cell_type": "markdown",
   "id": "80e6d17e-2b2c-4ada-8236-aed0bf448b39",
   "metadata": {},
   "source": [
    "### Load Data"
   ]
  },
  {
   "cell_type": "code",
   "execution_count": 6,
   "id": "2817a6c0-8a05-48b7-8f32-1dddebed9816",
   "metadata": {},
   "outputs": [],
   "source": [
    "df = pd.read_csv(\"INTC.csv\")"
   ]
  },
  {
   "cell_type": "code",
   "execution_count": 7,
   "id": "8b637eb5-7857-41ee-98eb-3236cc2cb7c1",
   "metadata": {},
   "outputs": [],
   "source": [
    "df.index = pd.date_range(start='2000-11', periods=264, freq='MS')"
   ]
  },
  {
   "cell_type": "code",
   "execution_count": 9,
   "id": "c7f6a8e3-d083-445a-aa82-7d13dc1a2639",
   "metadata": {},
   "outputs": [
    {
     "data": {
      "text/html": [
       "<div>\n",
       "<style scoped>\n",
       "    .dataframe tbody tr th:only-of-type {\n",
       "        vertical-align: middle;\n",
       "    }\n",
       "\n",
       "    .dataframe tbody tr th {\n",
       "        vertical-align: top;\n",
       "    }\n",
       "\n",
       "    .dataframe thead th {\n",
       "        text-align: right;\n",
       "    }\n",
       "</style>\n",
       "<table border=\"1\" class=\"dataframe\">\n",
       "  <thead>\n",
       "    <tr style=\"text-align: right;\">\n",
       "      <th></th>\n",
       "      <th>Date</th>\n",
       "      <th>Open</th>\n",
       "      <th>High</th>\n",
       "      <th>Low</th>\n",
       "      <th>Close</th>\n",
       "      <th>Adj Close</th>\n",
       "      <th>Volume</th>\n",
       "    </tr>\n",
       "  </thead>\n",
       "  <tbody>\n",
       "    <tr>\n",
       "      <th>2000-11-01</th>\n",
       "      <td>11/01/2000</td>\n",
       "      <td>44.3125</td>\n",
       "      <td>47.875000</td>\n",
       "      <td>36.0000</td>\n",
       "      <td>38.0625</td>\n",
       "      <td>22.745279</td>\n",
       "      <td>998090900</td>\n",
       "    </tr>\n",
       "    <tr>\n",
       "      <th>2000-12-01</th>\n",
       "      <td>12/01/2000</td>\n",
       "      <td>38.5000</td>\n",
       "      <td>38.500000</td>\n",
       "      <td>29.8125</td>\n",
       "      <td>30.0625</td>\n",
       "      <td>17.972366</td>\n",
       "      <td>1120692200</td>\n",
       "    </tr>\n",
       "    <tr>\n",
       "      <th>2001-01-01</th>\n",
       "      <td>1/01/2001</td>\n",
       "      <td>30.6875</td>\n",
       "      <td>38.593750</td>\n",
       "      <td>30.0000</td>\n",
       "      <td>37.0000</td>\n",
       "      <td>22.119848</td>\n",
       "      <td>1211434900</td>\n",
       "    </tr>\n",
       "    <tr>\n",
       "      <th>2001-02-01</th>\n",
       "      <td>2/01/2001</td>\n",
       "      <td>37.0625</td>\n",
       "      <td>38.234375</td>\n",
       "      <td>28.0000</td>\n",
       "      <td>28.5625</td>\n",
       "      <td>17.075613</td>\n",
       "      <td>909408600</td>\n",
       "    </tr>\n",
       "    <tr>\n",
       "      <th>2001-03-01</th>\n",
       "      <td>3/01/2001</td>\n",
       "      <td>28.2500</td>\n",
       "      <td>33.687500</td>\n",
       "      <td>24.5625</td>\n",
       "      <td>26.3125</td>\n",
       "      <td>15.739317</td>\n",
       "      <td>1421494900</td>\n",
       "    </tr>\n",
       "  </tbody>\n",
       "</table>\n",
       "</div>"
      ],
      "text/plain": [
       "                  Date     Open       High      Low    Close  Adj Close  \\\n",
       "2000-11-01  11/01/2000  44.3125  47.875000  36.0000  38.0625  22.745279   \n",
       "2000-12-01  12/01/2000  38.5000  38.500000  29.8125  30.0625  17.972366   \n",
       "2001-01-01   1/01/2001  30.6875  38.593750  30.0000  37.0000  22.119848   \n",
       "2001-02-01   2/01/2001  37.0625  38.234375  28.0000  28.5625  17.075613   \n",
       "2001-03-01   3/01/2001  28.2500  33.687500  24.5625  26.3125  15.739317   \n",
       "\n",
       "                Volume  \n",
       "2000-11-01   998090900  \n",
       "2000-12-01  1120692200  \n",
       "2001-01-01  1211434900  \n",
       "2001-02-01   909408600  \n",
       "2001-03-01  1421494900  "
      ]
     },
     "execution_count": 9,
     "metadata": {},
     "output_type": "execute_result"
    }
   ],
   "source": [
    "df.head()"
   ]
  },
  {
   "cell_type": "code",
   "execution_count": 10,
   "id": "6167be1a-2701-4256-8df8-50d42f1d3b31",
   "metadata": {},
   "outputs": [
    {
     "data": {
      "text/html": [
       "<div>\n",
       "<style scoped>\n",
       "    .dataframe tbody tr th:only-of-type {\n",
       "        vertical-align: middle;\n",
       "    }\n",
       "\n",
       "    .dataframe tbody tr th {\n",
       "        vertical-align: top;\n",
       "    }\n",
       "\n",
       "    .dataframe thead th {\n",
       "        text-align: right;\n",
       "    }\n",
       "</style>\n",
       "<table border=\"1\" class=\"dataframe\">\n",
       "  <thead>\n",
       "    <tr style=\"text-align: right;\">\n",
       "      <th></th>\n",
       "      <th>Date</th>\n",
       "      <th>Open</th>\n",
       "      <th>High</th>\n",
       "      <th>Low</th>\n",
       "      <th>Close</th>\n",
       "      <th>Adj Close</th>\n",
       "      <th>Volume</th>\n",
       "    </tr>\n",
       "  </thead>\n",
       "  <tbody>\n",
       "    <tr>\n",
       "      <th>2022-06-01</th>\n",
       "      <td>6/01/2022</td>\n",
       "      <td>44.770000</td>\n",
       "      <td>44.930000</td>\n",
       "      <td>36.599998</td>\n",
       "      <td>37.410000</td>\n",
       "      <td>37.036106</td>\n",
       "      <td>783353000</td>\n",
       "    </tr>\n",
       "    <tr>\n",
       "      <th>2022-07-01</th>\n",
       "      <td>7/01/2022</td>\n",
       "      <td>37.090000</td>\n",
       "      <td>40.730000</td>\n",
       "      <td>35.240002</td>\n",
       "      <td>36.310001</td>\n",
       "      <td>35.947102</td>\n",
       "      <td>792918100</td>\n",
       "    </tr>\n",
       "    <tr>\n",
       "      <th>2022-08-01</th>\n",
       "      <td>8/01/2022</td>\n",
       "      <td>36.049999</td>\n",
       "      <td>37.689999</td>\n",
       "      <td>31.770000</td>\n",
       "      <td>31.920000</td>\n",
       "      <td>31.600975</td>\n",
       "      <td>899717100</td>\n",
       "    </tr>\n",
       "    <tr>\n",
       "      <th>2022-09-01</th>\n",
       "      <td>9/01/2022</td>\n",
       "      <td>31.570000</td>\n",
       "      <td>32.380001</td>\n",
       "      <td>25.740000</td>\n",
       "      <td>25.770000</td>\n",
       "      <td>25.770000</td>\n",
       "      <td>888833300</td>\n",
       "    </tr>\n",
       "    <tr>\n",
       "      <th>2022-10-01</th>\n",
       "      <td>10/01/2022</td>\n",
       "      <td>26.330000</td>\n",
       "      <td>27.840000</td>\n",
       "      <td>24.590000</td>\n",
       "      <td>25.910000</td>\n",
       "      <td>25.910000</td>\n",
       "      <td>449583700</td>\n",
       "    </tr>\n",
       "  </tbody>\n",
       "</table>\n",
       "</div>"
      ],
      "text/plain": [
       "                  Date       Open       High        Low      Close  Adj Close  \\\n",
       "2022-06-01   6/01/2022  44.770000  44.930000  36.599998  37.410000  37.036106   \n",
       "2022-07-01   7/01/2022  37.090000  40.730000  35.240002  36.310001  35.947102   \n",
       "2022-08-01   8/01/2022  36.049999  37.689999  31.770000  31.920000  31.600975   \n",
       "2022-09-01   9/01/2022  31.570000  32.380001  25.740000  25.770000  25.770000   \n",
       "2022-10-01  10/01/2022  26.330000  27.840000  24.590000  25.910000  25.910000   \n",
       "\n",
       "               Volume  \n",
       "2022-06-01  783353000  \n",
       "2022-07-01  792918100  \n",
       "2022-08-01  899717100  \n",
       "2022-09-01  888833300  \n",
       "2022-10-01  449583700  "
      ]
     },
     "execution_count": 10,
     "metadata": {},
     "output_type": "execute_result"
    }
   ],
   "source": [
    "df.tail()"
   ]
  },
  {
   "cell_type": "markdown",
   "id": "5bac83fa-c1fc-4d06-a44d-70be593eb56a",
   "metadata": {},
   "source": [
    "### generate L1_Close and Return, remember to drop the first NA"
   ]
  },
  {
   "cell_type": "code",
   "execution_count": 11,
   "id": "c1e105c6-ce67-4186-ba64-dc28f2877011",
   "metadata": {},
   "outputs": [],
   "source": [
    "df['Return'] = df['Close'] / df['Close'].shift(1) - 1"
   ]
  },
  {
   "cell_type": "code",
   "execution_count": 12,
   "id": "cae72c60-5a98-4cab-9e28-382d6e326267",
   "metadata": {},
   "outputs": [
    {
     "data": {
      "text/html": [
       "<div>\n",
       "<style scoped>\n",
       "    .dataframe tbody tr th:only-of-type {\n",
       "        vertical-align: middle;\n",
       "    }\n",
       "\n",
       "    .dataframe tbody tr th {\n",
       "        vertical-align: top;\n",
       "    }\n",
       "\n",
       "    .dataframe thead th {\n",
       "        text-align: right;\n",
       "    }\n",
       "</style>\n",
       "<table border=\"1\" class=\"dataframe\">\n",
       "  <thead>\n",
       "    <tr style=\"text-align: right;\">\n",
       "      <th></th>\n",
       "      <th>Date</th>\n",
       "      <th>Open</th>\n",
       "      <th>High</th>\n",
       "      <th>Low</th>\n",
       "      <th>Close</th>\n",
       "      <th>Adj Close</th>\n",
       "      <th>Volume</th>\n",
       "      <th>Return</th>\n",
       "    </tr>\n",
       "  </thead>\n",
       "  <tbody>\n",
       "    <tr>\n",
       "      <th>2000-11-01</th>\n",
       "      <td>11/01/2000</td>\n",
       "      <td>44.3125</td>\n",
       "      <td>47.875000</td>\n",
       "      <td>36.0000</td>\n",
       "      <td>38.0625</td>\n",
       "      <td>22.745279</td>\n",
       "      <td>998090900</td>\n",
       "      <td>NaN</td>\n",
       "    </tr>\n",
       "    <tr>\n",
       "      <th>2000-12-01</th>\n",
       "      <td>12/01/2000</td>\n",
       "      <td>38.5000</td>\n",
       "      <td>38.500000</td>\n",
       "      <td>29.8125</td>\n",
       "      <td>30.0625</td>\n",
       "      <td>17.972366</td>\n",
       "      <td>1120692200</td>\n",
       "      <td>-0.210181</td>\n",
       "    </tr>\n",
       "    <tr>\n",
       "      <th>2001-01-01</th>\n",
       "      <td>1/01/2001</td>\n",
       "      <td>30.6875</td>\n",
       "      <td>38.593750</td>\n",
       "      <td>30.0000</td>\n",
       "      <td>37.0000</td>\n",
       "      <td>22.119848</td>\n",
       "      <td>1211434900</td>\n",
       "      <td>0.230769</td>\n",
       "    </tr>\n",
       "    <tr>\n",
       "      <th>2001-02-01</th>\n",
       "      <td>2/01/2001</td>\n",
       "      <td>37.0625</td>\n",
       "      <td>38.234375</td>\n",
       "      <td>28.0000</td>\n",
       "      <td>28.5625</td>\n",
       "      <td>17.075613</td>\n",
       "      <td>909408600</td>\n",
       "      <td>-0.228041</td>\n",
       "    </tr>\n",
       "    <tr>\n",
       "      <th>2001-03-01</th>\n",
       "      <td>3/01/2001</td>\n",
       "      <td>28.2500</td>\n",
       "      <td>33.687500</td>\n",
       "      <td>24.5625</td>\n",
       "      <td>26.3125</td>\n",
       "      <td>15.739317</td>\n",
       "      <td>1421494900</td>\n",
       "      <td>-0.078775</td>\n",
       "    </tr>\n",
       "  </tbody>\n",
       "</table>\n",
       "</div>"
      ],
      "text/plain": [
       "                  Date     Open       High      Low    Close  Adj Close  \\\n",
       "2000-11-01  11/01/2000  44.3125  47.875000  36.0000  38.0625  22.745279   \n",
       "2000-12-01  12/01/2000  38.5000  38.500000  29.8125  30.0625  17.972366   \n",
       "2001-01-01   1/01/2001  30.6875  38.593750  30.0000  37.0000  22.119848   \n",
       "2001-02-01   2/01/2001  37.0625  38.234375  28.0000  28.5625  17.075613   \n",
       "2001-03-01   3/01/2001  28.2500  33.687500  24.5625  26.3125  15.739317   \n",
       "\n",
       "                Volume    Return  \n",
       "2000-11-01   998090900       NaN  \n",
       "2000-12-01  1120692200 -0.210181  \n",
       "2001-01-01  1211434900  0.230769  \n",
       "2001-02-01   909408600 -0.228041  \n",
       "2001-03-01  1421494900 -0.078775  "
      ]
     },
     "execution_count": 12,
     "metadata": {},
     "output_type": "execute_result"
    }
   ],
   "source": [
    "df.head()"
   ]
  },
  {
   "cell_type": "code",
   "execution_count": 13,
   "id": "b4562b77-ae47-4008-9ae5-6af3a95787f9",
   "metadata": {},
   "outputs": [
    {
     "data": {
      "text/html": [
       "<div>\n",
       "<style scoped>\n",
       "    .dataframe tbody tr th:only-of-type {\n",
       "        vertical-align: middle;\n",
       "    }\n",
       "\n",
       "    .dataframe tbody tr th {\n",
       "        vertical-align: top;\n",
       "    }\n",
       "\n",
       "    .dataframe thead th {\n",
       "        text-align: right;\n",
       "    }\n",
       "</style>\n",
       "<table border=\"1\" class=\"dataframe\">\n",
       "  <thead>\n",
       "    <tr style=\"text-align: right;\">\n",
       "      <th></th>\n",
       "      <th>Date</th>\n",
       "      <th>Open</th>\n",
       "      <th>High</th>\n",
       "      <th>Low</th>\n",
       "      <th>Close</th>\n",
       "      <th>Adj Close</th>\n",
       "      <th>Volume</th>\n",
       "      <th>Return</th>\n",
       "    </tr>\n",
       "  </thead>\n",
       "  <tbody>\n",
       "    <tr>\n",
       "      <th>2000-12-01</th>\n",
       "      <td>12/01/2000</td>\n",
       "      <td>38.5000</td>\n",
       "      <td>38.500000</td>\n",
       "      <td>29.8125</td>\n",
       "      <td>30.0625</td>\n",
       "      <td>17.972366</td>\n",
       "      <td>1120692200</td>\n",
       "      <td>-0.210181</td>\n",
       "    </tr>\n",
       "    <tr>\n",
       "      <th>2001-01-01</th>\n",
       "      <td>1/01/2001</td>\n",
       "      <td>30.6875</td>\n",
       "      <td>38.593750</td>\n",
       "      <td>30.0000</td>\n",
       "      <td>37.0000</td>\n",
       "      <td>22.119848</td>\n",
       "      <td>1211434900</td>\n",
       "      <td>0.230769</td>\n",
       "    </tr>\n",
       "    <tr>\n",
       "      <th>2001-02-01</th>\n",
       "      <td>2/01/2001</td>\n",
       "      <td>37.0625</td>\n",
       "      <td>38.234375</td>\n",
       "      <td>28.0000</td>\n",
       "      <td>28.5625</td>\n",
       "      <td>17.075613</td>\n",
       "      <td>909408600</td>\n",
       "      <td>-0.228041</td>\n",
       "    </tr>\n",
       "    <tr>\n",
       "      <th>2001-03-01</th>\n",
       "      <td>3/01/2001</td>\n",
       "      <td>28.2500</td>\n",
       "      <td>33.687500</td>\n",
       "      <td>24.5625</td>\n",
       "      <td>26.3125</td>\n",
       "      <td>15.739317</td>\n",
       "      <td>1421494900</td>\n",
       "      <td>-0.078775</td>\n",
       "    </tr>\n",
       "    <tr>\n",
       "      <th>2001-04-01</th>\n",
       "      <td>4/01/2001</td>\n",
       "      <td>26.0625</td>\n",
       "      <td>32.570000</td>\n",
       "      <td>22.2500</td>\n",
       "      <td>30.9100</td>\n",
       "      <td>18.489391</td>\n",
       "      <td>1232602500</td>\n",
       "      <td>0.174727</td>\n",
       "    </tr>\n",
       "  </tbody>\n",
       "</table>\n",
       "</div>"
      ],
      "text/plain": [
       "                  Date     Open       High      Low    Close  Adj Close  \\\n",
       "2000-12-01  12/01/2000  38.5000  38.500000  29.8125  30.0625  17.972366   \n",
       "2001-01-01   1/01/2001  30.6875  38.593750  30.0000  37.0000  22.119848   \n",
       "2001-02-01   2/01/2001  37.0625  38.234375  28.0000  28.5625  17.075613   \n",
       "2001-03-01   3/01/2001  28.2500  33.687500  24.5625  26.3125  15.739317   \n",
       "2001-04-01   4/01/2001  26.0625  32.570000  22.2500  30.9100  18.489391   \n",
       "\n",
       "                Volume    Return  \n",
       "2000-12-01  1120692200 -0.210181  \n",
       "2001-01-01  1211434900  0.230769  \n",
       "2001-02-01   909408600 -0.228041  \n",
       "2001-03-01  1421494900 -0.078775  \n",
       "2001-04-01  1232602500  0.174727  "
      ]
     },
     "execution_count": 13,
     "metadata": {},
     "output_type": "execute_result"
    }
   ],
   "source": [
    "df = df.dropna()\n",
    "df.head()"
   ]
  },
  {
   "cell_type": "markdown",
   "id": "9a95000c-f063-4b93-88db-7889e8700bc7",
   "metadata": {},
   "source": [
    "### Line plot"
   ]
  },
  {
   "cell_type": "code",
   "execution_count": 14,
   "id": "1b09f291-9422-41ee-be39-860a8f441bea",
   "metadata": {},
   "outputs": [
    {
     "data": {
      "image/png": "[encoded data removed]",
      "text/plain": [
       "<Figure size 432x288 with 1 Axes>"
      ]
     },
     "metadata": {
      "needs_background": "light"
     },
     "output_type": "display_data"
    }
   ],
   "source": [
    "df['Return'].plot()\n",
    "plt.show()"
   ]
  },
  {
   "cell_type": "code",
   "execution_count": 15,
   "id": "796d0ca9-1a15-48a2-a423-42a12d3fbb55",
   "metadata": {},
   "outputs": [
    {
     "data": {
      "image/png": "[encoded data removed]",
      "text/plain": [
       "<Figure size 432x288 with 1 Axes>"
      ]
     },
     "metadata": {
      "needs_background": "light"
     },
     "output_type": "display_data"
    }
   ],
   "source": [
    "sm.graphics.tsa.plot_acf(df['Return'].dropna().values.squeeze(), lags=40)\n",
    "plt.show()"
   ]
  },
  {
   "cell_type": "code",
   "execution_count": 16,
   "id": "81ead137-4840-488c-820a-6b219a847043",
   "metadata": {},
   "outputs": [],
   "source": [
    "X = df['Return'].values"
   ]
  },
  {
   "cell_type": "code",
   "execution_count": 17,
   "id": "a70326b5-4ab3-4d0f-b0e6-2bdd6d23d81a",
   "metadata": {},
   "outputs": [
    {
     "name": "stdout",
     "output_type": "stream",
     "text": [
      " ADF statistic: -16.886, \n",
      " p-value: 0.000, \n",
      " critical value: {'1%': -3.455558114028747, '5%': -2.872635586277424, '10%': -2.572682677000175}\n"
     ]
    }
   ],
   "source": [
    "result1=adfuller(X,regression='c',autolag='BIC',regresults=True,store=True)\n",
    "out = ' ADF statistic: {0:0.3f}, \\n p-value: {1:0.3f}, \\n critical value: {2}'\n",
    "print(out.format(result1[0], result1[1], result1[2]))"
   ]
  },
  {
   "cell_type": "code",
   "execution_count": 18,
   "id": "bcbc7d76-50c0-4fb0-ab6f-aad3c96db15e",
   "metadata": {},
   "outputs": [
    {
     "name": "stdout",
     "output_type": "stream",
     "text": [
      " ADF statistic: -16.866, \n",
      " p-value: 0.000, \n",
      " critical value: {'1%': -3.993745412883642, '5%': -3.4273814105122966, '10%': -3.1369771257480235}\n"
     ]
    }
   ],
   "source": [
    "result2=adfuller(X,regression='ct',autolag='BIC',regresults=True,store=True)\n",
    "out = ' ADF statistic: {0:0.3f}, \\n p-value: {1:0.3f}, \\n critical value: {2}'\n",
    "print(out.format(result2[0], result2[1], result2[2]))"
   ]
  },
  {
   "cell_type": "code",
   "execution_count": 19,
   "id": "838504fe-ece0-4b39-a817-ad3a30417a29",
   "metadata": {},
   "outputs": [
    {
     "data": {
      "text/html": [
       "<div>\n",
       "<style scoped>\n",
       "    .dataframe tbody tr th:only-of-type {\n",
       "        vertical-align: middle;\n",
       "    }\n",
       "\n",
       "    .dataframe tbody tr th {\n",
       "        vertical-align: top;\n",
       "    }\n",
       "\n",
       "    .dataframe thead th {\n",
       "        text-align: right;\n",
       "    }\n",
       "</style>\n",
       "<table border=\"1\" class=\"dataframe\">\n",
       "  <thead>\n",
       "    <tr style=\"text-align: right;\">\n",
       "      <th></th>\n",
       "      <th>lb_stat</th>\n",
       "      <th>lb_pvalue</th>\n",
       "    </tr>\n",
       "  </thead>\n",
       "  <tbody>\n",
       "    <tr>\n",
       "      <th>10</th>\n",
       "      <td>21.436034</td>\n",
       "      <td>0.01825</td>\n",
       "    </tr>\n",
       "  </tbody>\n",
       "</table>\n",
       "</div>"
      ],
      "text/plain": [
       "      lb_stat  lb_pvalue\n",
       "10  21.436034    0.01825"
      ]
     },
     "execution_count": 19,
     "metadata": {},
     "output_type": "execute_result"
    }
   ],
   "source": [
    "sm.stats.acorr_ljungbox(X, lags=[10], return_df=True)"
   ]
  },
  {
   "cell_type": "markdown",
   "id": "2afe1c0f-d641-4054-a691-223c83a1b64a",
   "metadata": {},
   "source": [
    "### Autoarima"
   ]
  },
  {
   "cell_type": "code",
   "execution_count": 20,
   "id": "e033fa81-538c-4030-8863-8bc08fd4e0f6",
   "metadata": {},
   "outputs": [
    {
     "data": {
      "text/plain": [
       "AutoARIMA()"
      ]
     },
     "execution_count": 20,
     "metadata": {},
     "output_type": "execute_result"
    }
   ],
   "source": [
    "model = AutoARIMA()\n",
    "model.fit(X)"
   ]
  },
  {
   "cell_type": "code",
   "execution_count": 21,
   "id": "d6e27a92-6220-4e20-9c61-70a80ccffe58",
   "metadata": {},
   "outputs": [
    {
     "name": "stdout",
     "output_type": "stream",
     "text": [
      "                               SARIMAX Results                                \n",
      "==============================================================================\n",
      "Dep. Variable:                      y   No. Observations:                  263\n",
      "Model:               SARIMAX(2, 0, 2)   Log Likelihood                 267.242\n",
      "Date:                Sat, 05 Nov 2022   AIC                           -524.485\n",
      "Time:                        13:11:13   BIC                           -506.624\n",
      "Sample:                             0   HQIC                          -517.307\n",
      "                                - 263                                         \n",
      "Covariance Type:                  opg                                         \n",
      "==============================================================================\n",
      "                 coef    std err          z      P>|z|      [0.025      0.975]\n",
      "------------------------------------------------------------------------------\n",
      "ar.L1         -0.9263      0.015    -61.532      0.000      -0.956      -0.897\n",
      "ar.L2         -0.9888      0.009   -115.875      0.000      -1.006      -0.972\n",
      "ma.L1          0.8972      0.036     25.160      0.000       0.827       0.967\n",
      "ma.L2          0.9241      0.031     29.701      0.000       0.863       0.985\n",
      "sigma2         0.0076      0.001     13.220      0.000       0.006       0.009\n",
      "===================================================================================\n",
      "Ljung-Box (L1) (Q):                   0.26   Jarque-Bera (JB):                11.05\n",
      "Prob(Q):                              0.61   Prob(JB):                         0.00\n",
      "Heteroskedasticity (H):               0.48   Skew:                            -0.20\n",
      "Prob(H) (two-sided):                  0.00   Kurtosis:                         3.92\n",
      "===================================================================================\n",
      "\n",
      "Warnings:\n",
      "[1] Covariance matrix calculated using the outer product of gradients (complex-step).\n"
     ]
    }
   ],
   "source": [
    "print(model.summary())"
   ]
  },
  {
   "cell_type": "code",
   "execution_count": 22,
   "id": "8506da53-80dd-4107-b593-3423b5ffc4ea",
   "metadata": {},
   "outputs": [
    {
     "name": "stdout",
     "output_type": "stream",
     "text": [
      "                               SARIMAX Results                                \n",
      "==============================================================================\n",
      "Dep. Variable:                      y   No. Observations:                  263\n",
      "Model:                 ARIMA(2, 0, 2)   Log Likelihood                 267.384\n",
      "Date:                Sat, 05 Nov 2022   AIC                           -522.768\n",
      "Time:                        13:11:24   BIC                           -501.335\n",
      "Sample:                             0   HQIC                          -514.154\n",
      "                                - 263                                         \n",
      "Covariance Type:                  opg                                         \n",
      "==============================================================================\n",
      "                 coef    std err          z      P>|z|      [0.025      0.975]\n",
      "------------------------------------------------------------------------------\n",
      "const          0.0028      0.005      0.518      0.605      -0.008       0.013\n",
      "ar.L1         -0.9264      0.015    -61.446      0.000      -0.956      -0.897\n",
      "ar.L2         -0.9888      0.009   -115.744      0.000      -1.006      -0.972\n",
      "ma.L1          0.8970      0.036     24.927      0.000       0.826       0.968\n",
      "ma.L2          0.9241      0.031     29.667      0.000       0.863       0.985\n",
      "sigma2         0.0076      0.001     13.178      0.000       0.006       0.009\n",
      "===================================================================================\n",
      "Ljung-Box (L1) (Q):                   0.26   Jarque-Bera (JB):                11.04\n",
      "Prob(Q):                              0.61   Prob(JB):                         0.00\n",
      "Heteroskedasticity (H):               0.48   Skew:                            -0.20\n",
      "Prob(H) (two-sided):                  0.00   Kurtosis:                         3.92\n",
      "===================================================================================\n",
      "\n",
      "Warnings:\n",
      "[1] Covariance matrix calculated using the outer product of gradients (complex-step).\n"
     ]
    }
   ],
   "source": [
    "mod = ARIMA(X, order=(2,0,2))\n",
    "res = mod.fit()\n",
    "print(res.summary())"
   ]
  },
  {
   "cell_type": "code",
   "execution_count": 23,
   "id": "047049d6-ca2f-4c6f-8773-59e720dad26f",
   "metadata": {},
   "outputs": [
    {
     "data": {
      "image/png": "[encoded data removed]",
      "text/plain": [
       "<Figure size 1152x648 with 4 Axes>"
      ]
     },
     "metadata": {
      "needs_background": "light"
     },
     "output_type": "display_data"
    }
   ],
   "source": [
    "fig = plt.figure(figsize=(16,9))\n",
    "fig = res.plot_diagnostics(fig=fig, lags=30)"
   ]
  },
  {
   "cell_type": "markdown",
   "id": "91e60f0f-e6ed-4cf7-8875-fe723a8dfc2d",
   "metadata": {},
   "source": [
    "### Generate Return^2"
   ]
  },
  {
   "cell_type": "code",
   "execution_count": 24,
   "id": "1468f9b8-baae-4730-88cb-1c01a864757b",
   "metadata": {},
   "outputs": [
    {
     "data": {
      "text/html": [
       "<div>\n",
       "<style scoped>\n",
       "    .dataframe tbody tr th:only-of-type {\n",
       "        vertical-align: middle;\n",
       "    }\n",
       "\n",
       "    .dataframe tbody tr th {\n",
       "        vertical-align: top;\n",
       "    }\n",
       "\n",
       "    .dataframe thead th {\n",
       "        text-align: right;\n",
       "    }\n",
       "</style>\n",
       "<table border=\"1\" class=\"dataframe\">\n",
       "  <thead>\n",
       "    <tr style=\"text-align: right;\">\n",
       "      <th></th>\n",
       "      <th>Date</th>\n",
       "      <th>Open</th>\n",
       "      <th>High</th>\n",
       "      <th>Low</th>\n",
       "      <th>Close</th>\n",
       "      <th>Adj Close</th>\n",
       "      <th>Volume</th>\n",
       "      <th>Return</th>\n",
       "      <th>Return2</th>\n",
       "      <th>L1_Return2</th>\n",
       "    </tr>\n",
       "  </thead>\n",
       "  <tbody>\n",
       "    <tr>\n",
       "      <th>2001-01-01</th>\n",
       "      <td>1/01/2001</td>\n",
       "      <td>30.6875</td>\n",
       "      <td>38.593750</td>\n",
       "      <td>30.0000</td>\n",
       "      <td>37.0000</td>\n",
       "      <td>22.119848</td>\n",
       "      <td>1211434900</td>\n",
       "      <td>0.230769</td>\n",
       "      <td>1369.000000</td>\n",
       "      <td>903.753906</td>\n",
       "    </tr>\n",
       "    <tr>\n",
       "      <th>2001-02-01</th>\n",
       "      <td>2/01/2001</td>\n",
       "      <td>37.0625</td>\n",
       "      <td>38.234375</td>\n",
       "      <td>28.0000</td>\n",
       "      <td>28.5625</td>\n",
       "      <td>17.075613</td>\n",
       "      <td>909408600</td>\n",
       "      <td>-0.228041</td>\n",
       "      <td>815.816406</td>\n",
       "      <td>1369.000000</td>\n",
       "    </tr>\n",
       "    <tr>\n",
       "      <th>2001-03-01</th>\n",
       "      <td>3/01/2001</td>\n",
       "      <td>28.2500</td>\n",
       "      <td>33.687500</td>\n",
       "      <td>24.5625</td>\n",
       "      <td>26.3125</td>\n",
       "      <td>15.739317</td>\n",
       "      <td>1421494900</td>\n",
       "      <td>-0.078775</td>\n",
       "      <td>692.347656</td>\n",
       "      <td>815.816406</td>\n",
       "    </tr>\n",
       "    <tr>\n",
       "      <th>2001-04-01</th>\n",
       "      <td>4/01/2001</td>\n",
       "      <td>26.0625</td>\n",
       "      <td>32.570000</td>\n",
       "      <td>22.2500</td>\n",
       "      <td>30.9100</td>\n",
       "      <td>18.489391</td>\n",
       "      <td>1232602500</td>\n",
       "      <td>0.174727</td>\n",
       "      <td>955.428100</td>\n",
       "      <td>692.347656</td>\n",
       "    </tr>\n",
       "    <tr>\n",
       "      <th>2001-05-01</th>\n",
       "      <td>5/01/2001</td>\n",
       "      <td>30.7700</td>\n",
       "      <td>32.500000</td>\n",
       "      <td>26.4000</td>\n",
       "      <td>27.0100</td>\n",
       "      <td>16.156532</td>\n",
       "      <td>966714700</td>\n",
       "      <td>-0.126173</td>\n",
       "      <td>729.540100</td>\n",
       "      <td>955.428100</td>\n",
       "    </tr>\n",
       "  </tbody>\n",
       "</table>\n",
       "</div>"
      ],
      "text/plain": [
       "                 Date     Open       High      Low    Close  Adj Close  \\\n",
       "2001-01-01  1/01/2001  30.6875  38.593750  30.0000  37.0000  22.119848   \n",
       "2001-02-01  2/01/2001  37.0625  38.234375  28.0000  28.5625  17.075613   \n",
       "2001-03-01  3/01/2001  28.2500  33.687500  24.5625  26.3125  15.739317   \n",
       "2001-04-01  4/01/2001  26.0625  32.570000  22.2500  30.9100  18.489391   \n",
       "2001-05-01  5/01/2001  30.7700  32.500000  26.4000  27.0100  16.156532   \n",
       "\n",
       "                Volume    Return      Return2   L1_Return2  \n",
       "2001-01-01  1211434900  0.230769  1369.000000   903.753906  \n",
       "2001-02-01   909408600 -0.228041   815.816406  1369.000000  \n",
       "2001-03-01  1421494900 -0.078775   692.347656   815.816406  \n",
       "2001-04-01  1232602500  0.174727   955.428100   692.347656  \n",
       "2001-05-01   966714700 -0.126173   729.540100   955.428100  "
      ]
     },
     "execution_count": 24,
     "metadata": {},
     "output_type": "execute_result"
    }
   ],
   "source": [
    "df['Return2'] = np.square(df['Close'])\n",
    "\n",
    "df['L1_Return2'] = df['Return2'].shift(1)\n",
    "\n",
    "df = df.dropna()\n",
    "\n",
    "df.head()"
   ]
  },
  {
   "cell_type": "code",
   "execution_count": 31,
   "id": "cda48dab-40fa-4b86-b939-52b923053fe2",
   "metadata": {},
   "outputs": [
    {
     "name": "stdout",
     "output_type": "stream",
     "text": [
      "                            OLS Regression Results                            \n",
      "==============================================================================\n",
      "Dep. Variable:                Return2   R-squared:                       0.940\n",
      "Model:                            OLS   Adj. R-squared:                  0.940\n",
      "Method:                 Least Squares   F-statistic:                     4075.\n",
      "Date:                Sat, 05 Nov 2022   Prob (F-statistic):          7.03e-161\n",
      "Time:                        13:15:34   Log-Likelihood:                -1789.6\n",
      "No. Observations:                 262   AIC:                             3583.\n",
      "Df Residuals:                     260   BIC:                             3590.\n",
      "Df Model:                           1                                         \n",
      "Covariance Type:            nonrobust                                         \n",
      "==============================================================================\n",
      "                 coef    std err          t      P>|t|      [0.025      0.975]\n",
      "------------------------------------------------------------------------------\n",
      "const         32.5041     21.831      1.489      0.138     -10.484      75.492\n",
      "L1_Return2     0.9699      0.015     63.835      0.000       0.940       1.000\n",
      "==============================================================================\n",
      "Omnibus:                       53.824   Durbin-Watson:                   1.985\n",
      "Prob(Omnibus):                  0.000   Jarque-Bera (JB):              349.919\n",
      "Skew:                          -0.598   Prob(JB):                     1.04e-76\n",
      "Kurtosis:                       8.534   Cond. No.                     2.26e+03\n",
      "==============================================================================\n",
      "\n",
      "Notes:\n",
      "[1] Standard Errors assume that the covariance matrix of the errors is correctly specified.\n",
      "[2] The condition number is large, 2.26e+03. This might indicate that there are\n",
      "strong multicollinearity or other numerical problems.\n"
     ]
    }
   ],
   "source": [
    "# testing AR(1)\n",
    "X = df['L1_Return2']\n",
    "X = sm.add_constant(X)\n",
    "\n",
    "Y = df['Return2']\n",
    "\n",
    "model = sm.OLS(Y,X)\n",
    "results = model.fit()\n",
    "print(results.summary())"
   ]
  },
  {
   "cell_type": "markdown",
   "id": "e9f230ac-b3b2-481c-8466-fcf3081c6556",
   "metadata": {},
   "source": [
    "### ARCH(1)"
   ]
  },
  {
   "cell_type": "code",
   "execution_count": 28,
   "id": "11bf4314-85ab-4817-add2-7793dbf11bf3",
   "metadata": {},
   "outputs": [
    {
     "name": "stdout",
     "output_type": "stream",
     "text": [
      "Iteration:      1,   Func. Count:      5,   Neg. LLF: 881.9841685715364\n",
      "Iteration:      2,   Func. Count:     14,   Neg. LLF: 76272.31624656562\n",
      "Iteration:      3,   Func. Count:     20,   Neg. LLF: -218.94626400212516\n",
      "Iteration:      4,   Func. Count:     26,   Neg. LLF: -264.47106186333906\n",
      "Iteration:      5,   Func. Count:     32,   Neg. LLF: -265.02834643782717\n",
      "Iteration:      6,   Func. Count:     36,   Neg. LLF: -265.02834887120406\n",
      "Iteration:      7,   Func. Count:     39,   Neg. LLF: -265.02834887120196\n",
      "Optimization terminated successfully    (Exit mode 0)\n",
      "            Current function value: -265.02834887120406\n",
      "            Iterations: 7\n",
      "            Function evaluations: 39\n",
      "            Gradient evaluations: 7\n",
      "                           AR - ARCH Model Results                            \n",
      "==============================================================================\n",
      "Dep. Variable:                      y   R-squared:                       0.000\n",
      "Mean Model:                        AR   Adj. R-squared:                  0.000\n",
      "Vol Model:                       ARCH   Log-Likelihood:                265.028\n",
      "Distribution:                  Normal   AIC:                          -524.057\n",
      "Method:            Maximum Likelihood   BIC:                          -513.352\n",
      "                                        No. Observations:                  262\n",
      "Date:                Sat, Nov 05 2022   Df Residuals:                      261\n",
      "Time:                        13:13:43   Df Model:                            1\n",
      "                                  Mean Model                                 \n",
      "=============================================================================\n",
      "                 coef    std err          t      P>|t|       95.0% Conf. Int.\n",
      "-----------------------------------------------------------------------------\n",
      "Const      3.5994e-03  5.165e-03      0.697      0.486 [-6.524e-03,1.372e-02]\n",
      "                              Volatility Model                              \n",
      "============================================================================\n",
      "                 coef    std err          t      P>|t|      95.0% Conf. Int.\n",
      "----------------------------------------------------------------------------\n",
      "omega      6.3487e-03  9.116e-04      6.964  3.303e-12 [4.562e-03,8.135e-03]\n",
      "alpha[1]       0.2151  9.560e-02      2.250  2.443e-02   [2.775e-02,  0.402]\n",
      "============================================================================\n",
      "\n",
      "Covariance estimator: robust\n"
     ]
    },
    {
     "name": "stderr",
     "output_type": "stream",
     "text": [
      "C:\\Users\\Micha\\anaconda3\\lib\\site-packages\\arch\\univariate\\base.py:309: DataScaleWarning: y is poorly scaled, which may affect convergence of the optimizer when\n",
      "estimating the model parameters. The scale of y is 0.008118. Parameter\n",
      "estimation work better when this value is between 1 and 1000. The recommended\n",
      "rescaling is 10 * y.\n",
      "\n",
      "This warning can be disabled by either rescaling y before initializing the\n",
      "model or by setting rescale=False.\n",
      "\n",
      "  warnings.warn(\n"
     ]
    }
   ],
   "source": [
    "X = df['Return'].values\n",
    "\n",
    "model = arch_model(X, mean='AR', vol='ARCH', p=1)\n",
    "model_fit = model.fit()\n",
    "\n",
    "print(model_fit.summary())"
   ]
  },
  {
   "cell_type": "markdown",
   "id": "fe2e3b38-1ffc-4be6-869f-754b18d0816a",
   "metadata": {},
   "source": [
    "# GARCH(1,1)"
   ]
  },
  {
   "cell_type": "code",
   "execution_count": 27,
   "id": "90631dbe-f330-419c-bec1-a4f8a8b2f20c",
   "metadata": {},
   "outputs": [
    {
     "name": "stdout",
     "output_type": "stream",
     "text": [
      "Iteration:      1,   Func. Count:      6,   Neg. LLF: 1990810.4983426323\n",
      "Iteration:      2,   Func. Count:     16,   Neg. LLF: -246.54356183981295\n",
      "Iteration:      3,   Func. Count:     24,   Neg. LLF: -231.07890365241371\n",
      "Iteration:      4,   Func. Count:     32,   Neg. LLF: -195.4509350060336\n",
      "Iteration:      5,   Func. Count:     38,   Neg. LLF: 14868987.918511229\n",
      "Iteration:      6,   Func. Count:     48,   Neg. LLF: 3284.7226085758493\n",
      "Iteration:      7,   Func. Count:     56,   Neg. LLF: -272.080036258134\n",
      "Iteration:      8,   Func. Count:     62,   Neg. LLF: 105.13708702773297\n",
      "Iteration:      9,   Func. Count:     68,   Neg. LLF: -182.71434148945525\n",
      "Iteration:     10,   Func. Count:     74,   Neg. LLF: 29.946118315366448\n",
      "Iteration:     11,   Func. Count:     80,   Neg. LLF: -282.29733815774057\n",
      "Iteration:     12,   Func. Count:     86,   Neg. LLF: -202.59759536177995\n",
      "Iteration:     13,   Func. Count:     92,   Neg. LLF: -283.3144867785672\n",
      "Iteration:     14,   Func. Count:     98,   Neg. LLF: -282.75930771972605\n",
      "Iteration:     15,   Func. Count:    104,   Neg. LLF: -283.48934481865035\n",
      "Iteration:     16,   Func. Count:    110,   Neg. LLF: -283.4919563475034\n",
      "Iteration:     17,   Func. Count:    114,   Neg. LLF: -283.49195634814305\n",
      "Optimization terminated successfully    (Exit mode 0)\n",
      "            Current function value: -283.4919563475034\n",
      "            Iterations: 18\n",
      "            Function evaluations: 114\n",
      "            Gradient evaluations: 17\n",
      "                           AR - GARCH Model Results                           \n",
      "==============================================================================\n",
      "Dep. Variable:                      y   R-squared:                       0.000\n",
      "Mean Model:                        AR   Adj. R-squared:                  0.000\n",
      "Vol Model:                      GARCH   Log-Likelihood:                283.492\n",
      "Distribution:                  Normal   AIC:                          -558.984\n",
      "Method:            Maximum Likelihood   BIC:                          -544.711\n",
      "                                        No. Observations:                  262\n",
      "Date:                Sat, Nov 05 2022   Df Residuals:                      261\n",
      "Time:                        13:13:28   Df Model:                            1\n",
      "                                  Mean Model                                 \n",
      "=============================================================================\n",
      "                 coef    std err          t      P>|t|       95.0% Conf. Int.\n",
      "-----------------------------------------------------------------------------\n",
      "Const      3.9554e-03  4.895e-03      0.808      0.419 [-5.638e-03,1.355e-02]\n",
      "                               Volatility Model                              \n",
      "=============================================================================\n",
      "                 coef    std err          t      P>|t|       95.0% Conf. Int.\n",
      "-----------------------------------------------------------------------------\n",
      "omega      1.9358e-04  9.059e-05      2.137  3.261e-02  [1.603e-05,3.711e-04]\n",
      "alpha[1]       0.0152  4.202e-02      0.363      0.717 [-6.711e-02,9.760e-02]\n",
      "beta[1]        0.9469  5.204e-02     18.197  5.415e-74      [  0.845,  1.049]\n",
      "=============================================================================\n",
      "\n",
      "Covariance estimator: robust\n"
     ]
    },
    {
     "name": "stderr",
     "output_type": "stream",
     "text": [
      "C:\\Users\\Micha\\anaconda3\\lib\\site-packages\\arch\\univariate\\base.py:309: DataScaleWarning: y is poorly scaled, which may affect convergence of the optimizer when\n",
      "estimating the model parameters. The scale of y is 0.008118. Parameter\n",
      "estimation work better when this value is between 1 and 1000. The recommended\n",
      "rescaling is 10 * y.\n",
      "\n",
      "This warning can be disabled by either rescaling y before initializing the\n",
      "model or by setting rescale=False.\n",
      "\n",
      "  warnings.warn(\n"
     ]
    }
   ],
   "source": [
    "model = arch_model(X, mean='AR', vol='GARCH', p=1, q=1)\n",
    "\n",
    "model_fit = model.fit()\n",
    "\n",
    "print(model_fit.summary())"
   ]
  }
 ],
 "metadata": {
  "kernelspec": {
   "display_name": "Python 3",
   "language": "python",
   "name": "python3"
  },
  "language_info": {
   "codemirror_mode": {
    "name": "ipython",
    "version": 3
   },
   "file_extension": ".py",
   "mimetype": "text/x-python",
   "name": "python",
   "nbconvert_exporter": "python",
   "pygments_lexer": "ipython3",
   "version": "3.8.8"
  }
 },
 "nbformat": 4,
 "nbformat_minor": 5
}
